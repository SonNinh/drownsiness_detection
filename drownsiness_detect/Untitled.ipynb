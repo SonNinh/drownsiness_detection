{
 "cells": [
  {
   "cell_type": "code",
   "execution_count": 5,
   "metadata": {},
   "outputs": [],
   "source": [
    "import numpy as np\n",
    "import matplotlib.pyplot as plt\n",
    "import os\n",
    "import cv2\n",
    "\n",
    "datadir = \"dataset_B_Eye_Images\"\n",
    "CATEGORIES = [\"closedLeftEyes\", \"closedRightEyes\", \"openLeftEyes\", \"openRightEyes\"]\n",
    "\n",
    "for category in CATEGORIES:\n",
    "    path = os.path.join(datadir,category)\n",
    "    for img in os.listdir(path):\n",
    "#         print(os.path.join(path, img))\n",
    "        img_array = cv2.imread(os.path.join(path, img),0)\n",
    "#         plt.imshow(img_array, cmap=\"gray\")\n",
    "#         plt.show()\n",
    "       \n",
    "        break\n",
    "    break\n",
    "    "
   ]
  },
  {
   "cell_type": "code",
   "execution_count": 6,
   "metadata": {
    "scrolled": true
   },
   "outputs": [
    {
     "name": "stdout",
     "output_type": "stream",
     "text": [
      "4846\n"
     ]
    }
   ],
   "source": [
    "training_data = []\n",
    "def create_training_data():\n",
    "    for category in CATEGORIES:\n",
    "        path = os.path.join(datadir,category)\n",
    "        class_num = (CATEGORIES.index(category))//2\n",
    "\n",
    "        for img in os.listdir(path):\n",
    "            try:\n",
    "                img_array = cv2.imread(os.path.join(path, img),0)\n",
    "                if img_array is not None:\n",
    "                    training_data.append([img_array, class_num])\n",
    "                \n",
    "            except Exception as e:\n",
    "                pass\n",
    "            \n",
    "create_training_data()\n",
    "print(len(training_data))"
   ]
  },
  {
   "cell_type": "code",
   "execution_count": 10,
   "metadata": {
    "scrolled": true
   },
   "outputs": [],
   "source": [
    "import random\n",
    "random.shuffle(training_data)"
   ]
  },
  {
   "cell_type": "code",
   "execution_count": 11,
   "metadata": {
    "scrolled": false
   },
   "outputs": [
    {
     "name": "stdout",
     "output_type": "stream",
     "text": [
      "0\n",
      "1\n",
      "1\n",
      "0\n",
      "0\n",
      "0\n",
      "0\n",
      "1\n",
      "1\n",
      "1\n"
     ]
    }
   ],
   "source": [
    "for sample in training_data[:10]:\n",
    "    print(sample[1])"
   ]
  },
  {
   "cell_type": "code",
   "execution_count": 21,
   "metadata": {},
   "outputs": [
    {
     "data": {
      "image/png": "[encoded data removed]",
      "text/plain": [
       "<Figure size 432x288 with 1 Axes>"
      ]
     },
     "metadata": {
      "needs_background": "light"
     },
     "output_type": "display_data"
    },
    {
     "name": "stdout",
     "output_type": "stream",
     "text": [
      "[[114 114 114 115 115 115 116 116 121 122 123 125 127 130 133 134 132 136\n",
      "  142 147 150 151 150 149]\n",
      " [105 106 106 107 106 105 104 104 107 107 108 109 111 114 117 119 124 127\n",
      "  132 138 142 145 146 146]\n",
      " [107 108 110 110 110 108 105 104 104 103 102 102 104 107 110 112 116 118\n",
      "  122 128 133 138 142 144]\n",
      " [116 118 120 122 123 121 118 116 113 111 110 108 109 111 114 116 116 117\n",
      "  119 123 129 135 140 143]\n",
      " [120 123 127 130 132 131 129 128 124 122 120 118 117 117 118 119 121 121\n",
      "  121 123 127 133 138 142]\n",
      " [125 127 131 134 137 137 137 137 135 134 131 128 125 123 122 121 121 120\n",
      "  120 121 124 129 134 137]\n",
      " [127 129 131 133 135 136 137 137 141 140 138 134 130 125 121 118 113 113\n",
      "  113 114 117 122 126 129]\n",
      " [124 125 125 126 128 129 130 130 138 137 136 132 127 120 114 111 105 105\n",
      "  105 107 111 116 120 123]\n",
      " [117 123 130 134 134 132 130 129 122 119 116 114 113 111 105 101 100 100\n",
      "  100 102 105 109 112 114]\n",
      " [123 123 122 119 117 117 120 122 131 124 115 107 103 100  96  94  86  88\n",
      "   91  95 100 105 109 111]\n",
      " [119 117 114 109 106 107 111 114 110 103  92  84  81  80  81  82  83  85\n",
      "   90  95 100 104 107 108]\n",
      " [112 111 107 101  94  88  86  85  73  71  69  69  72  76  79  82  94  97\n",
      "  101 105 107 107 106 106]\n",
      " [108 104  96  85  72  63  57  56  67  72  79  85  90  93  95  95 103 105\n",
      "  108 111 111 109 107 105]\n",
      " [104  98  88  77  69  68  71  75  93  99 107 112 112 110 107 105 101 103\n",
      "  106 109 110 108 106 105]\n",
      " [105 102  98  94  94  99 107 114 120 123 126 124 119 114 110 109 102 104\n",
      "  106 108 109 108 107 106]\n",
      " [113 115 116 117 117 119 122 124 134 134 132 126 119 114 114 115 109 109\n",
      "  110 111 111 110 108 107]\n",
      " [124 124 126 127 130 132 135 136 132 130 128 124 120 117 114 113 111 114\n",
      "  116 116 114 111 110 110]\n",
      " [125 125 126 127 128 130 131 132 130 128 126 123 120 118 115 114 113 116\n",
      "  118 118 116 113 112 112]\n",
      " [126 126 126 126 126 126 126 126 125 125 123 122 120 118 117 116 116 118\n",
      "  120 120 117 115 114 114]\n",
      " [127 127 126 126 125 123 122 122 120 120 120 119 119 118 117 117 118 120\n",
      "  121 120 118 115 115 115]\n",
      " [127 127 127 127 125 123 121 120 118 118 118 118 118 119 119 119 120 121\n",
      "  122 120 117 115 115 115]\n",
      " [127 128 128 128 127 125 123 121 119 119 119 120 121 122 122 122 122 123\n",
      "  123 121 118 116 116 116]\n",
      " [127 128 129 130 130 128 126 125 123 123 124 125 125 126 127 127 125 125\n",
      "  125 122 119 117 118 119]\n",
      " [127 128 130 132 132 130 129 127 126 127 127 128 129 130 130 131 127 128\n",
      "  127 124 121 119 119 121]]\n"
     ]
    }
   ],
   "source": [
    "plt.imshow(training_data[4][0], cmap=\"gray\")\n",
    "plt.show()\n",
    "print(training_data[4][0])"
   ]
  },
  {
   "cell_type": "code",
   "execution_count": 19,
   "metadata": {},
   "outputs": [],
   "source": [
    "x = []\n",
    "y = []\n",
    "for features,label in training_data:\n",
    "    x.append(features)\n",
    "    y.append(label)\n",
    "\n",
    "x = np.array(x).reshape(-1, 24, 24, 1)\n",
    "       \n",
    "# for i in range(len(x)-1):\n",
    "#     x[i].reshape(-1,24, 24, 1)"
   ]
  },
  {
   "cell_type": "code",
   "execution_count": 20,
   "metadata": {},
   "outputs": [],
   "source": [
    "import pickle\n",
    "pickle_out = open(\"img.pickle\",\"wb\")\n",
    "pickle.dump(x, pickle_out)\n",
    "pickle_out.close()\n",
    "\n",
    "pickle_out = open(\"label.pickle\",\"wb\")\n",
    "pickle.dump(y, pickle_out)\n",
    "pickle_out.close()"
   ]
  },
  {
   "cell_type": "code",
   "execution_count": null,
   "metadata": {},
   "outputs": [],
   "source": []
  },
  {
   "cell_type": "code",
   "execution_count": null,
   "metadata": {},
   "outputs": [],
   "source": []
  }
 ],
 "metadata": {
  "kernelspec": {
   "display_name": "Python 3",
   "language": "python",
   "name": "python3"
  },
  "language_info": {
   "codemirror_mode": {
    "name": "ipython",
    "version": 3
   },
   "file_extension": ".py",
   "mimetype": "text/x-python",
   "name": "python",
   "nbconvert_exporter": "python",
   "pygments_lexer": "ipython3",
   "version": "3.6.7"
  }
 },
 "nbformat": 4,
 "nbformat_minor": 2
}
